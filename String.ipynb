{
 "cells": [
  {
   "cell_type": "markdown",
   "metadata": {},
   "source": [
    "# String"
   ]
  },
  {
   "cell_type": "code",
   "execution_count": null,
   "metadata": {},
   "outputs": [],
   "source": [
    "def balancedStringSplit(s):\n",
    "    if len(s) == 0 or len(s) == 1:\n",
    "        return \n",
    "    stack = []\n",
    "    count = 0\n",
    "    for i in s:\n",
    "        if len(stack) == 0:            \n",
    "            stack.append(i)\n",
    "            count += 1\n",
    "        else:                       \n",
    "            if i == stack[0]:\n",
    "                stack.append(i)\n",
    "            else:\n",
    "                stack.pop(-1)\n",
    "    return count"
   ]
  },
  {
   "cell_type": "code",
   "execution_count": null,
   "metadata": {},
   "outputs": [],
   "source": [
    "def repeatedSubstringPattern(s):   \n",
    "    if len(s) == 1:\n",
    "        return False        \n",
    "    subs = ''\n",
    "    for i in s:\n",
    "        if i in subs:\n",
    "            break\n",
    "        else:\n",
    "            subs = subs + i\n",
    "    \n",
    "    subl = len(subs)\n",
    "    j = 0\n",
    "    while j <= len(s):\n",
    "        if s[j:j+subl] == subs:\n",
    "            if j + subl == len(s):\n",
    "                return True\n",
    "            else:\n",
    "                j += subl\n",
    "        else:\n",
    "            return False\n",
    "    return True\n",
    "        "
   ]
  },
  {
   "cell_type": "code",
   "execution_count": null,
   "metadata": {},
   "outputs": [],
   "source": [
    "def strStr(self, haystack: str, needle: str) -> int:\n",
    "    if not needle:\n",
    "        return 0\n",
    "    index = -1\n",
    "    for i in range(0, len(haystack)):\n",
    "        if haystack[i] == needle[0]:\n",
    "            for j in range(1, len(needle)):\n",
    "                if haystack[i+j] != needle[j]:\n",
    "                    break\n",
    "                index = i\n",
    "    return index"
   ]
  },
  {
   "cell_type": "code",
   "execution_count": null,
   "metadata": {},
   "outputs": [],
   "source": [
    "def findLongestWord(self, s, d):       \n",
    "    res = str()       \n",
    "    for st in d:\n",
    "        if len(st) > len(s):\n",
    "            continue\n",
    "        p1, p2 = 0, 0\n",
    "        subres = str()\n",
    "        while p1 < len(s) and p2 < len(st):\n",
    "            if st[p2] == s[p1]:\n",
    "                subres += s[p1]\n",
    "                p1 += 1\n",
    "                p2 += 1\n",
    "            else:\n",
    "                p1 += 1                   \n",
    "        if p2 == len(st) and subres[-1] == st[-1]:                \n",
    "            if len(subres) > len(res):\n",
    "                res = subres\n",
    "            elif len(subres) == len(res):\n",
    "                if subres < res:\n",
    "                    res = subres\n",
    "    return res "
   ]
  },
  {
   "cell_type": "code",
   "execution_count": null,
   "metadata": {},
   "outputs": [],
   "source": [
    "def generateParenthesis(self, n):\n",
    "    if n == 0:\n",
    "        return [\"\"]        \n",
    "    res = []\n",
    "\n",
    "    def balance(s = \"\", left = 0, right = 0):\n",
    "        if len(s) == 2*n:\n",
    "            res.append(s)\n",
    "            return s                \n",
    "        if left < n:\n",
    "            balance(s + \"(\", left+1, right)\n",
    "        if right < left:\n",
    "            balance(s + \")\", left, right+1)\n",
    "\n",
    "    balance ()\n",
    "    return res"
   ]
  },
  {
   "cell_type": "code",
   "execution_count": null,
   "metadata": {},
   "outputs": [],
   "source": [
    "def minRemoveToMakeValid(self, s: str) -> str: \n",
    "    subres = []\n",
    "    banlance = 0\n",
    "    left_p = 0\n",
    "    for c in s:\n",
    "        if c == \"(\":\n",
    "            banlance += 1 \n",
    "            left_p += 1\n",
    "        elif c == \")\":\n",
    "            if banlance == 0:\n",
    "                continue\n",
    "            banlance -= 1\n",
    "        subres.append(c)\n",
    "    res = []        \n",
    "    right_p = left_p - banlance\n",
    "    for k in subres:\n",
    "        if k == \"(\":\n",
    "            right_p -= 1\n",
    "            if right_p < 0:\n",
    "                continue\n",
    "        res.append(k)\n",
    "    return \"\".join(res)"
   ]
  }
 ],
 "metadata": {
  "kernelspec": {
   "display_name": "Python 3",
   "language": "python",
   "name": "python3"
  },
  "language_info": {
   "codemirror_mode": {
    "name": "ipython",
    "version": 3
   },
   "file_extension": ".py",
   "mimetype": "text/x-python",
   "name": "python",
   "nbconvert_exporter": "python",
   "pygments_lexer": "ipython3",
   "version": "3.7.4"
  }
 },
 "nbformat": 4,
 "nbformat_minor": 4
}
