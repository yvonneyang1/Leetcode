{
 "cells": [
  {
   "cell_type": "markdown",
   "metadata": {},
   "source": [
    "## Mock"
   ]
  },
  {
   "cell_type": "markdown",
   "metadata": {},
   "source": [
    "### find celebrity"
   ]
  },
  {
   "cell_type": "code",
   "execution_count": null,
   "metadata": {},
   "outputs": [],
   "source": [
    "\n",
    "def findCelebrity(self, n: int) -> int:\n",
    "    if n == 0 or n == 1:\n",
    "        retutn -1          \n",
    "    p1 = 0\n",
    "    p2 = n-1\n",
    "    while p1 < p2:\n",
    "        if knows(p1, p2):\n",
    "            p1 += 1\n",
    "        else:\n",
    "            p2 -= 1                \n",
    "    for i in range(n):\n",
    "        if i == p1:\n",
    "            continue\n",
    "        if knows(p1, i) or not knows(i, p1):\n",
    "            return -1\n",
    "    return p1"
   ]
  },
  {
   "cell_type": "markdown",
   "metadata": {},
   "source": [
    "### Russian Doll envelops: like 2d longest incresing subsequence'''\n",
    "sort + LIS"
   ]
  },
  {
   "cell_type": "code",
   "execution_count": null,
   "metadata": {},
   "outputs": [],
   "source": [
    "def maxEnvelopes(self, arr):\n",
    "    # sort increasing in first dimension and decreasing on second\n",
    "    arr.sort(key=lambda x: (x[0], -x[1]))\n",
    "\n",
    "    def lis(nums):\n",
    "        dp = []\n",
    "        for i in range(len(nums)):\n",
    "#                binary search nums[i] in dp list and return the position\n",
    "            idx = bisect_left(dp, nums[i])\n",
    "            if idx == len(dp):\n",
    "#                    means that all element in dp < nums[i]\n",
    "                dp.append(nums[i])\n",
    "            else:\n",
    "                dp[idx] = nums[i]\n",
    "        return len(dp)\n",
    "    # extract the second dimension and run the LIS\n",
    "    return lis([i[1] for i in arr])"
   ]
  },
  {
   "cell_type": "markdown",
   "metadata": {},
   "source": [
    "### Subdomain Visit Count"
   ]
  },
  {
   "cell_type": "code",
   "execution_count": null,
   "metadata": {},
   "outputs": [],
   "source": [
    "def subdomainVisits(self, cpdomains):    \n",
    "    ans = collections.Counter()\n",
    "    for domain in cpdomains:\n",
    "        count, domain = domain.split()\n",
    "        count = int(count)\n",
    "        frags = domain.split('.')\n",
    "        for i in xrange(len(frags)):\n",
    "            ans[\".\".join(frags[i:])] += count\n",
    "\n",
    "    return [\"{} {}\".format(ct, dom) for dom, ct in ans.items()]  "
   ]
  },
  {
   "cell_type": "markdown",
   "metadata": {},
   "source": [
    "### Longest common substring "
   ]
  },
  {
   "cell_type": "code",
   "execution_count": null,
   "metadata": {},
   "outputs": [],
   "source": [
    "def longestCommonSubsequence(self, text1: str, text2: str) -> int:\n",
    "    from functools import lru_cache\n",
    "    if len(text1) > len(text2):\n",
    "        text1, text2 = text2, text1\n",
    "    @lru_cache(maxsize=None)\n",
    "    def helper(ch1, ch2):\n",
    "        if ch1 == len(text1) or ch2 == len(text2):\n",
    "            return 0\n",
    "        if text1[ch1] == text2[ch2]:\n",
    "            return 1 + helper(ch1+1, ch2+1)\n",
    "        else:\n",
    "            return max(helper(ch1+1, ch2), helper(ch1, ch2+1))\n",
    "    return helper(0, 0)"
   ]
  },
  {
   "cell_type": "markdown",
   "metadata": {},
   "source": [
    "### Alien Dictionary \n",
    "\n",
    "Graph algorithm (bfs, dfs, topological sort)\n",
    "1. extract relationship rules from the input with same prefix(DFS, BFS)\n",
    "2. put all relationship into a graph. node is letter and edge is relationship\n",
    "3. topological sort\n",
    "    "
   ]
  },
  {
   "cell_type": "code",
   "execution_count": null,
   "metadata": {},
   "outputs": [],
   "source": [
    "def alienOrder(self, words):\n",
    "    from collections import defaultdict, Counter, deque\n",
    "    adj = defaultdict(set)\n",
    "    in_degree = Counter({c: 0 for word in words for c in word})\n",
    "    for first, second in zip(words, words[1:]):\n",
    "        for c, d in zip(first, second):\n",
    "            if c != d:\n",
    "                if d not in adj:\n",
    "                    adj[c].add(d)\n",
    "                    in_degree[d] += 1\n",
    "                break\n",
    "        else:\n",
    "            if len(second) < len(first):\n",
    "                return '' \n",
    "    out = []\n",
    "    queue = deque([c for c in in_degree if in_degree[c] == 0])\n",
    "    while queue:\n",
    "        c = queue.popleft()\n",
    "        out.append(c)\n",
    "        for k in adj[c]:\n",
    "            in_degree[d] -= 1\n",
    "            if in_degree[d] == 0:\n",
    "                queue.append(d)\n",
    "    if len(out) < len(in_degree):\n",
    "        return ''\n",
    "    return ''.join(out)"
   ]
  },
  {
   "cell_type": "markdown",
   "metadata": {},
   "source": [
    "### Sparse matrix multiplication"
   ]
  },
  {
   "cell_type": "code",
   "execution_count": null,
   "metadata": {},
   "outputs": [],
   "source": [
    "def multiply(self, A, B):\n",
    "    if A is None or B is None: return None\n",
    "    m, n, l = len(A), len(A[0]), len(B[0])\n",
    "    if len(B) != n:\n",
    "        return\n",
    "    C = [[0 for _ in range(l)] for _ in range(m)]\n",
    "    tableB = {}\n",
    "    for k, row in enumerate(B):\n",
    "        tableB[k] = {}\n",
    "        for j, eleB in enumerate(row):\n",
    "            if eleB: \n",
    "                 tableB[k][j] = eleB\n",
    "    for i, row in enumerate(A):\n",
    "        for k, eleA in enumerate(row):\n",
    "            if eleA:\n",
    "                for j, eleB in tableB[k].items():\n",
    "                    C[i][j] += eleA * eleB\n",
    "    return C"
   ]
  },
  {
   "cell_type": "markdown",
   "metadata": {},
   "source": [
    "### LIS(longest incresing subsequence)'''\n",
    "1. Brute force \n",
    "2. DP\n",
    "3. DP + binary search"
   ]
  },
  {
   "cell_type": "code",
   "execution_count": null,
   "metadata": {},
   "outputs": [],
   "source": [
    "def lengthOfLIS(self, nums: List[int]) -> int:\n",
    "    if not nums:\n",
    "        return 0\n",
    "    if len(nums) == 1:\n",
    "        return 1\n",
    "    st = 0\n",
    "    dp = [0]*len(nums)\n",
    "    dp[0] = 1\n",
    "    for i in range(1, len(nums)):\n",
    "        if nums[i] <= nums[st]:\n",
    "            dp[i] = dp[st]\n",
    "            st = i\n",
    "        else:\n",
    "            for j in range(i):\n",
    "                if nums[i] > nums[j]:\n",
    "                    dp[i] = max(dp[i], dp[j])\n",
    "            dp[i] += 1\n",
    "    print(dp)\n",
    "    return max(dp)"
   ]
  },
  {
   "cell_type": "markdown",
   "metadata": {},
   "source": [
    "### long word in dictionary"
   ]
  },
  {
   "cell_type": "code",
   "execution_count": null,
   "metadata": {},
   "outputs": [],
   "source": [
    "def findLongest(self,words):\n",
    "    if len(words) == 0:\n",
    "        return \n",
    "    res = ''\n",
    "    words.sort()\n",
    "    subres = set([''])\n",
    "    for i in words:\n",
    "        if i[:-1] in subres:\n",
    "            subres.add(i)\n",
    "            if len(i) > len(res):\n",
    "                res = i\n",
    "    return res\n",
    "    \n",
    "# Solution 2 \n",
    "def longestWord(self, words):\n",
    "    Trie = lambda: collections.defaultdict(Trie)\n",
    "    trie = Trie()\n",
    "    END = True\n",
    "\n",
    "    for i, word in enumerate(words):\n",
    "#  reduce function that use to reduce a single cumulative value in an iterable function.\n",
    "        reduce(dict.__getitem__, word, trie)[END] = i\n",
    "\n",
    "    stack = trie.values()\n",
    "    res = \"\"\n",
    "    while stack:\n",
    "        cur = stack.pop()\n",
    "        if END in cur:\n",
    "            word = words[cur[END]]\n",
    "            if len(word) > len(res) or len(word) == len(res) and word < res:\n",
    "                res = word\n",
    "            stack.extend([cur[letter] for letter in cur if letter != END])\n",
    "\n",
    "    return res"
   ]
  },
  {
   "cell_type": "markdown",
   "metadata": {},
   "source": [
    "### find earliestAncestor"
   ]
  },
  {
   "cell_type": "code",
   "execution_count": null,
   "metadata": {},
   "outputs": [],
   "source": [
    "def findNodeOneOrZero(edges):\n",
    "    if not edges or len(edges) == 0:\n",
    "        return []\n",
    "    res = []\n",
    "    d = collections.defaultdict{list}\n",
    "    for parent, child in edges:\n",
    "        d[child].append(parent)\n",
    "    for child, parent in d.items():\n",
    "        if len(parent) == 0 or len(parent) == 1:\n",
    "            res.append(child)\n",
    "    return res \n",
    "#-------------------------------------------------------\n",
    "def hasCommonAncestor(edges, x, y):\n",
    "    if not edges or len(edges) == 0:\n",
    "        return False\n",
    "    d = {}\n",
    "    for parent, child in edges:\n",
    "        if parent in d:\n",
    "            d[child] = d[parent] + [parent]\n",
    "        else:\n",
    "            d[child].append(parent)\n",
    "    def findAllParents(k):\n",
    "        res = set()\n",
    "        stack = []\n",
    "        stack.append(k)\n",
    "        while stack:\n",
    "            curr = stack.pop()\n",
    "            parents = d[curr]\n",
    "            if not parents:\n",
    "                continue\n",
    "            for p in parents:\n",
    "                if p in res:\n",
    "                    continue\n",
    "                res.add(p)\n",
    "                stack.append(p)\n",
    "        return res\n",
    "    PaX = findAllParents(x)\n",
    "    PaY = findAllParents(y)\n",
    "    CommonP = PaX.intersection(PaY)\n",
    "    return True if CommonP else False\n",
    "#-------------------------------------------------------\n",
    "def earliestAncestor(parentChildPairs, x):\n",
    "    if not parentChildPairs or not x:\n",
    "        return None\n",
    "    d = collections.defaultdict{list}\n",
    "    for parent, child in edges:\n",
    "        d[child].append(parent)\n",
    "            \n",
    "    curr = []\n",
    "    visit = set()\n",
    "    curr.append(x)\n",
    "    while curr:\n",
    "        prev = []\n",
    "        n = len(curr)\n",
    "        while n:\n",
    "            child = curr.pop(0)\n",
    "            prev.append(child)\n",
    "            parent = d[child]\n",
    "            if not parent:\n",
    "                continue\n",
    "            for p in parent:\n",
    "                if p in visit:\n",
    "                    continue\n",
    "                curr.append(p)\n",
    "                visit.add(p)\n",
    "    return prev.pop()\n",
    "    "
   ]
  }
 ],
 "metadata": {
  "kernelspec": {
   "display_name": "Python 3",
   "language": "python",
   "name": "python3"
  },
  "language_info": {
   "codemirror_mode": {
    "name": "ipython",
    "version": 3
   },
   "file_extension": ".py",
   "mimetype": "text/x-python",
   "name": "python",
   "nbconvert_exporter": "python",
   "pygments_lexer": "ipython3",
   "version": "3.7.4"
  }
 },
 "nbformat": 4,
 "nbformat_minor": 4
}
