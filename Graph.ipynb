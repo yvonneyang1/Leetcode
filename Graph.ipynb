{
 "cells": [
  {
   "cell_type": "markdown",
   "metadata": {},
   "source": [
    "# Graph Topic"
   ]
  },
  {
   "cell_type": "markdown",
   "metadata": {},
   "source": [
    "## Kruskal's MST\n",
    "\n",
    "1. Sort edges based on weights \n",
    "2. Union find\n",
    "3. Repeat step 2 until all edges in the spanning tree"
   ]
  },
  {
   "cell_type": "markdown",
   "metadata": {},
   "source": [
    "### No.1135. Connecting Cities With Minimum Cost -->"
   ]
  },
  {
   "cell_type": "code",
   "execution_count": null,
   "metadata": {},
   "outputs": [],
   "source": [
    "class UnionFind:\n",
    "    def __init__(self, N):\n",
    "        self.parents = [k for k in range(N+1)]\n",
    "        self.weights = [k for k in range(N+1)]\n",
    "    def union(self, a, b):\n",
    "        rootA = self.find(a)\n",
    "        rootB = self.find(b)\n",
    "        if rootA == rootB:\n",
    "            return \n",
    "        \n",
    "        self.parents[rootB] = rootA\n",
    "# Weight Union \n",
    "# In addition to the parent nodes, we also keep the weights of each of the nodes\n",
    "        if self.weights[rootA] > self.weights[rootB]:\n",
    "            self.parents[rootB] == rootA\n",
    "            self.weights[rootA] += self.weights[rootB]\n",
    "        else:\n",
    "            self.parents[rootA] == rootB\n",
    "            self.weights[rootB] += self.weights[rootA]\n",
    "\n",
    "\n",
    "    def find(self, a):\n",
    "        while a != self.parents[a]:\n",
    "# Path compression \n",
    "# while obtaining the root, we compress the path by assigning the grandparent of the node as the parent \n",
    "# thereby skipping connections and moving nodes closer to the root\n",
    "            self.parents[a] = self.parents[self.parents[a]]\n",
    "            a = self.parents[a]\n",
    "        return a \n",
    "    \n",
    "    def isSame(self, a, b):\n",
    "        return self.find(a) == self.find(b)\n",
    "\n",
    "class Solution:\n",
    "    def minimumCost(self, N: int, connections: List[List[int]]) -> int:\n",
    "        UF = UnionFind(N)\n",
    "        connections.sort(key = lambda x:x[2])\n",
    "        total = 0\n",
    "        cost = 0\n",
    "        for i in connections:\n",
    "            a = i[0]\n",
    "            b = i[1]\n",
    "            if UF.isSame(a, b):\n",
    "                continue\n",
    "            UF.union(a, b)\n",
    "            cost += i[2]\n",
    "            total += 1\n",
    "        if total == N - 1:\n",
    "            return cost\n",
    "        else:\n",
    "            return -1 \n",
    "                   \n",
    "        "
   ]
  },
  {
   "cell_type": "markdown",
   "metadata": {},
   "source": [
    "## Backtraking\n"
   ]
  },
  {
   "cell_type": "markdown",
   "metadata": {},
   "source": [
    "### No.332. Reconstruct Itinerary"
   ]
  },
  {
   "cell_type": "code",
   "execution_count": null,
   "metadata": {},
   "outputs": [],
   "source": [
    "class Solution:\n",
    "    def findItinerary(self, tickets: List[List[str]]) -> List[str]:\n",
    "        if not tickets:\n",
    "            return []\n",
    "        table = collections.defaultdict(list) \n",
    "        for t in sorted(tickets)[::-1]:\n",
    "            table[t[0]].append(t[1])\n",
    "            \n",
    "        res = []\n",
    "        def backtraking(start):\n",
    "            while table[start]:\n",
    "                backtraking(table[start].pop())\n",
    "            res.append(start)\n",
    "            \n",
    "        backtraking('JFK')\n",
    "    \n",
    "        return res[::-1]\n"
   ]
  },
  {
   "cell_type": "markdown",
   "metadata": {},
   "source": [
    "### No.399. Evaluate Division"
   ]
  },
  {
   "cell_type": "code",
   "execution_count": null,
   "metadata": {},
   "outputs": [],
   "source": [
    "'''\n",
    "1. dict-> graph\n",
    "2. backtraking function (curr, target, visit, mid-product)\n",
    "'''\n",
    "from collections import defaultdict\n",
    "\n",
    "class Solution:\n",
    "    def calcEquation(self, equations: List[List[str]], values: List[float], queries: List[List[str]]) -> List[float]:\n",
    "        \n",
    "        N = len(equations)\n",
    "        table = defaultdict(defaultdict)\n",
    "        \n",
    "        def backtraking(start, end, visited, mid_produt):\n",
    "            prod = -1 \n",
    "            visited.add(start)\n",
    "            \n",
    "            if end in table[start]:\n",
    "                prod = mid_produt * table[start][end]\n",
    "            else:\n",
    "                for key, val in table[start].items():\n",
    "                    if key in visited:\n",
    "                        continue\n",
    "                    prod = backtraking(key, end, visited, mid_produt * val)\n",
    "                    if prod != -1:\n",
    "                        break\n",
    "            visited.remove(start)\n",
    "            return prod\n",
    "        \n",
    "        for (divisor, divident), value in zip(equations, values):\n",
    "            table[divisor][divident] = value\n",
    "            table[divident][divisor] = 1 / value\n",
    "        \n",
    "        res = []\n",
    "        for d1, d2 in queries:\n",
    "            if d1 not in table or d2 not in table:\n",
    "                subres = -1\n",
    "            elif d1 == d2:\n",
    "                subres = 1\n",
    "            else:\n",
    "                visited = set()\n",
    "                subres = backtraking(d1, d2, visited, 1)\n",
    "            res.append(subres)\n",
    "            \n",
    "        return res \n",
    "            "
   ]
  },
  {
   "cell_type": "markdown",
   "metadata": {},
   "source": [
    "## DFS/ BFS"
   ]
  },
  {
   "cell_type": "markdown",
   "metadata": {},
   "source": [
    "### No. 133. Clone Graph"
   ]
  },
  {
   "cell_type": "code",
   "execution_count": null,
   "metadata": {},
   "outputs": [],
   "source": [
    "class Node:\n",
    "    def __init__(self, val = 0, neighbors = None):\n",
    "        self.val = val\n",
    "        self.neighbors = neighbors if neighbors is not None else []\n",
    "\n",
    "class Solution:\n",
    "    def __init__(self):\n",
    "        self.visited = {}\n",
    "\n",
    "    def cloneGraph(self, node: 'Node') -> 'Node':\n",
    "    \n",
    "        if not node:\n",
    "            return node \n",
    "        \n",
    "        if node in self.visited:\n",
    "            return self.visited[node]\n",
    "        \n",
    "        clone_node = Node(node.val, [])\n",
    "        self.visited[node] = clone_node\n",
    "        \n",
    "        if node.neighbors:\n",
    "            for nbs in node.neighbors:\n",
    "                clone_node.neighbors.append(self.cloneGraph(nbs))\n",
    "        return clone_node         \n",
    "    \n",
    "    "
   ]
  },
  {
   "cell_type": "markdown",
   "metadata": {},
   "source": [
    "### No.207  Course Schedule\n",
    "### No.210  Course Schedule 2\n"
   ]
  },
  {
   "cell_type": "markdown",
   "metadata": {},
   "source": [
    "Topological sort using DFS\n",
    "\n",
    "1. Dictionary to save graph \n",
    "2. DFS for topo-sort\n",
    "3. Color marker: white, grey, black\n",
    "4. A nonlocal for check cycle (meet grey node during traverse a node)\n",
    "5. Output Topo list\n"
   ]
  },
  {
   "cell_type": "code",
   "execution_count": null,
   "metadata": {},
   "outputs": [],
   "source": [
    "class Solution:\n",
    "    def Course_Schedule1(self, numCourses: int, prerequisites: List[List[int]]) -> bool:\n",
    "        \n",
    "        course = collections.defaultdict(list)\n",
    "        for pre in prerequisites:\n",
    "            course[pre[1]].append(pre[0])\n",
    "            \n",
    "        visit = {k:1 for k in range(numCourses)}\n",
    "        is_cycle = False \n",
    "        \n",
    "        def dfs(curr):\n",
    "            nonlocal is_cycle\n",
    "            if is_cycle:\n",
    "                return False \n",
    "        \n",
    "            visit[curr] = 2\n",
    "            if course[curr]:\n",
    "                for i in course[curr]:\n",
    "                    if visit[i] == 1:\n",
    "                        dfs(i)\n",
    "                    elif visit[i] == 2:\n",
    "                        is_cycle = True\n",
    "                        \n",
    "            visit[curr] = 3\n",
    "            return True\n",
    "          \n",
    "        for vex in range(numCourses):\n",
    "            if not dfs(vex) or is_cycle:\n",
    "                return False \n",
    "        return True\n",
    "\n",
    "    def Course_Schedule2(self, numCourses: int, prerequisites: List[List[int]]) -> List[int]:\n",
    "        \n",
    "        course_map = collections.defaultdict(list)\n",
    "        for pre in prerequisites:\n",
    "            course_map[pre[0]].append(pre[1])\n",
    "            \n",
    "        topo = []\n",
    "        is_cycle = False \n",
    "        visit = {k: 1 for k in range(numCourses)}\n",
    "        \n",
    "        def dfs(curr):\n",
    "            nonlocal is_cycle\n",
    "            if is_cycle:\n",
    "                return \n",
    "            visit[curr] = 2\n",
    "            \n",
    "            if course_map[curr]:\n",
    "                for i in course_map[curr]:\n",
    "                    if visit[i] == 1:\n",
    "                        dfs(i)\n",
    "                    elif visit[i] == 2:\n",
    "                        is_cycle = True\n",
    "            visit[curr] = 3\n",
    "            topo.append(curr)\n",
    "            \n",
    "        for vex in range(numCourses):\n",
    "            if visit[vex] == 1:\n",
    "                dfs(vex)\n",
    "                \n",
    "        return topo if not is_cycle else []\n",
    "                "
   ]
  },
  {
   "cell_type": "markdown",
   "metadata": {},
   "source": [
    "## Union Find"
   ]
  },
  {
   "cell_type": "markdown",
   "metadata": {},
   "source": [
    "### No.959. Regions Cut By Slashes"
   ]
  },
  {
   "cell_type": "code",
   "execution_count": null,
   "metadata": {},
   "outputs": [],
   "source": [
    "# class UnionFind:\n",
    "#     def __init__(self):\n",
    "#         self.r = range(N)\n",
    "        \n",
    "#     def union(self, a, b):\n",
    "#         rootA = self.find(a)\n",
    "#         rootB = self.find(b)\n",
    "#         self.r[rootA] = rootB\n",
    "        \n",
    "#     def find(self, a):\n",
    "#         self.r.setdefault(a,a)\n",
    "#         while a != self.r[a]:\n",
    "#             self.r[a] = self.find(self.r[a])\n",
    "#         return self.r[a] \n",
    "    \n",
    "class Solution:\n",
    "    def regionsBySlashes(self, grid: List[str]) -> int:\n",
    "        f = {}\n",
    "        def find(x):\n",
    "            f.setdefault(x, x)\n",
    "            if x != f[x]:\n",
    "                f[x] = find(f[x])\n",
    "            return f[x]\n",
    "        def union(x, y):\n",
    "            f[find(x)] = find(y)\n",
    "\n",
    "        for i in range(len(grid)):\n",
    "            for j in range(len(grid)):\n",
    "                if i:\n",
    "                    union((i - 1, j, 2), (i, j, 0))\n",
    "                if j:\n",
    "                    union((i, j - 1, 1), (i, j, 3))\n",
    "                if grid[i][j] != \"/\":\n",
    "                    union((i, j, 0), (i, j, 1))\n",
    "                    union((i, j, 2), (i, j, 3))\n",
    "                if grid[i][j] != \"\\\\\":\n",
    "                    union((i, j, 3), (i, j, 0))\n",
    "                    union((i, j, 1), (i, j, 2))\n",
    "        return len(set(map(find, f)))\n",
    "                \n",
    "                     "
   ]
  },
  {
   "cell_type": "markdown",
   "metadata": {},
   "source": [
    "## Leetcode No."
   ]
  }
 ],
 "metadata": {
  "kernelspec": {
   "display_name": "Python 3",
   "language": "python",
   "name": "python3"
  },
  "language_info": {
   "codemirror_mode": {
    "name": "ipython",
    "version": 3
   },
   "file_extension": ".py",
   "mimetype": "text/x-python",
   "name": "python",
   "nbconvert_exporter": "python",
   "pygments_lexer": "ipython3",
   "version": "3.7.4"
  }
 },
 "nbformat": 4,
 "nbformat_minor": 4
}
